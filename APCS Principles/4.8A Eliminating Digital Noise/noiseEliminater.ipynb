#######################
#                     #
#      VvSeanGtvV     #
#       02/06/25      #
# RASTER MODIFICATION #
#                     #
#######################

#######################
#                     #
# Sean Matthew Gomboc #
#       02/06/25      #
#                     #
#######################

from PIL import Image as img # Import Image module as a img
import os # Import OS (technically used on every videogame what u expected?)

# Prints two blank lines to start our program output
print("\n\n")

# in check for multiply if below or ignore which is 0
def mulColor(current : int, below : int, mul : int):
  if current < below:
    return current * mul
  else:
    return 0

# Modify the image
def ModifyImage(path : str, colorRMul : int, colorGMul : int, colorBMul : int, reverse : bool, belowR : int, belowG : int, belowB : int):
  imageName = os.path.splitext(os.path.basename(path))[0] # get the full name without the extension
  tempImage = img.open(path) # open that image

  # delete the existing jpg (so it doesn't create duplicates)
  if os.path.exists("modified_" + imageName + ".jpg"):
    os.remove("modified_" + imageName + ".jpg")

  # Rescale image size down, if needed
  width = tempImage.width # get image width
  height = tempImage.height # get image height

  # Rescale down w/ div of 1000
  mwidth = width // 1000
  mheight = height // 1000

  if mwidth > mheight:
    scale = mwidth
  else:
    scale = mheight
  if scale != 0:
    tempImage = tempImage.resize( (width // scale, height // scale) )

  # Creates an ImageCore Object from original image
  pixels = tempImage.getdata()
  # Creates empty array to hold new pixel values
  new_pixels = []

  # For every pixel from our original image, it saves
  # a copy of that pixel to our new_pixels array
  for p in pixels:
    new_pixels.append(p)

  # Starts at the first pixel in the image
  location = 0
  # Continues until it has looped through all pixels
  while location < len(new_pixels):
    # Gets the current color of the pixel at location
    p = pixels[location]
    # Splits color into red, green and blue components
    r = p[0]
    g = p[1]
    b = p[2]
    # Perform pixel manipulation and stores results
    # to a new red, green and blue components

    newr = mulColor(r, belowR, colorRMul)
    newg = mulColor(g, belowG, colorGMul)
    newb = mulColor(b, belowB, colorBMul)

    # Assign new red, green and blue components to pixel
    # at that specific location
    if not reverse: # if reverse flip the whole image
      new_pixels[location] = (newr, newg, newb)
    else:
      new_pixels[len(new_pixels) - 1 - location] = (newr, newg, newb)
    # Changes the location to the next pixel in array
    location = location + 1
  # Creates a new image, the same size as the original
  # using RGB value format
  newImage = img.new("RGB", tempImage.size)
  # Assigns the pixel values to newImage
  newImage.putdata(new_pixels)
  # Saves the new image file
  newImage.save("modified_" + imageName + ".jpg")

  print(f"finished {imageName}") # print out if finished
  return newImage # return that new image (if needed)


# Calls the ModifyImage to modify the image.
print(ModifyImage('/content/iron.jpg', 20, 0, 20, False, 255, 255, 255))
print(ModifyImage('/content/copper.jpg', 0, 20, 20, False, 255, 255, 255))
print(ModifyImage('/content/west.jpg', 16, 16, 16, False, 255, 16, 255))
print(ModifyImage('/content/pink.jpg', 12, 15, 10, False, 255, 255, 255))
