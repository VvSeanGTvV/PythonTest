from PIL import Image, ImageFilter # Import Image and ImageFilter Module from  Pillow

#######################
#                     #
# Sean Matthew Gomboc #
# VSTUDIOS | 02/13/25 #
#     WARHOL GRID     #
#                     #
#######################


# Load the image (use a small image for better performance)
image = Image.open("rat.jpg")  # Open the image file

# Variant 1: Apply a single filter multiple times (BLUR applied 10 times)
blurred_image = image.copy() # Copy the image so it doesn't interfere the main one
for _ in range(10):  # Loop to apply filter multiple times
    blurred_image = blurred_image.filter(ImageFilter.BLUR) # filter the image with blur

# Variant 2: Apply two different filters (EDGE_ENHANCE and CONTOUR)
edge_contour_image = image.copy() # Copy the image so it doesn't interfere the main one
edge_contour_image = edge_contour_image.filter(ImageFilter.EDGE_ENHANCE) # filter the image with EDGE_ENHANCE
edge_contour_image = edge_contour_image.filter(ImageFilter.CONTOUR) # filter the image to contour

# Variant 3: Apply a custom combination of filters (SHARPEN and COLOR)
custom_filtered_image = image.copy() # Copy the image so it doesn't interfere the main one
custom_filtered_image = custom_filtered_image.filter(ImageFilter.SHARPEN) # SHARPEN
custom_filtered_image = custom_filtered_image.filter(ImageFilter.DETAIL) # detail the image

# Create a blank canvas to arrange the images in a grid
width, height = image.size # Get the image width and height of the size
warhol_grid = Image.new("RGB", (width * 2, height * 2)) # times it by 2 for a grid

# Place images in a 2x2 grid
warhol_grid.paste(image, (0, 0))                           # Original (Top-left)
warhol_grid.paste(blurred_image, (width, 0))               # Blurred variant (Top-right)
warhol_grid.paste(edge_contour_image, (0, height))         # Edge-enhanced variant (Bottom-left)
warhol_grid.paste(custom_filtered_image, (width, height))  # Custom variant (Bottom-right)

# Save and show the final Warhol-style grid
warhol_grid.save("warhol_grid.jpg") # Save to disk as warhol_grid
warhol_grid.show() # Show the image as whole
