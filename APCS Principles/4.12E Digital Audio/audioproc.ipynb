######################################
#                                    #
#       Post Audio Manipulation      #
#                                    #
#      Project STEM & VvSeanGtvV     #
#              10/18/25              #
#                                    #
######################################

# Note this is modified to simplifiy the code further and some additional features.
# Importwave library and os library
import wave
import os
import random

def modifyAudio(path : str, reverse : bool, reverse2 : bool, shuffle : bool, triple : bool, mod : int, selectMode : bool, divFrame : int):
  # Creates an empty array to store individual frame data
  data = []

  # load from path
  fileName = os.path.splitext(os.path.basename(path))[0] # get the full name without the extension

  # Deletes old created audio files if they exist
  if os.path.exists("modified_" + fileName + ".wav"):
    os.remove("modified_" + fileName + ".wav")

  # Opens original audio file in a readable format
  sound = wave.open(path, "rb")
  print(f"File: {path} [Audio]")
  # Returns number of audio channels
  # (1 for mono, 2 for stereo)
  channels = sound.getnchannels()
  if (channels > 1):
    print(f"Audio Channels: {channels} [Stereo]")
  else:
    print(f"Audio Channels: {channels} [Mono]")

  # Returns sample width in bytes
  sampwidth = sound.getsampwidth()
  print("Sample Width: ", sampwidth)
  # Returns sampling frequency
  framerate = sound.getframerate()
  print("Sampling Frequency: ", framerate)
  # Returns number of audio frames
  numframes = sound.getnframes()
  print("Number of Audio Frames: ", numframes)

  # Reads the byte of the audio frame and adds it to data[]
  # until each frame has been stored to the array
  # Each element is stored as a byte object
  #######################
  #  Audio Manipulation Code
  #######################

  while (sound.tell() < numframes):

    frame = sound.readframes(1)
    if selectMode:
      if sound.tell() % 100 < 50:
        data.append(frame)
    else:
      data.append(frame)

  if (reverse):
    data.reverse()
  if (shuffle):
    random.shuffle(data)
  if (triple):
    data = data * 3
  if (mod > 0):
    for i in range(len(data)):
      if i % mod == 0:
          x = data[i]
          data[i] = x + b'\xe5\xee'
  if (reverse2):
    for i in range(len(data)):
      data[len(data) - i - 1] = data[i]
  print("\nV Debug V\n")

  # Combines the elements from the data array back
  # into a single string of bytes
  samples = b''.join(data)

  # Creates a new audio file that is writeable
  sound2 = wave.open("modified_" + fileName + ".wav", "wb")
  # Sets the channels to the same as original file
  sound2.setnchannels(channels)
  # Sets the sample width to the same as original File
  # This can be an integer from 1 to 4
  sound2.setsampwidth(sampwidth)
  # Sets the sampling frequency to the same as original file
  sound2.setframerate(framerate / divFrame)
  # The string of bytes created above are
  # assigned to the audio file
  sound2.writeframes(samples)

  print(f"created file: modified_{fileName}")

  # Closes out of the two audio files
  sound2.close()
  sound.close()
  print("closed 2 sound")

  # Lets you know when the processing has finished
  print(f"finished modification: {fileName}")

modifyAudio('/content/bossanova.wav', False, False, False, False, 0, False, 2)